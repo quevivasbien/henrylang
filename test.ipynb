{
 "cells": [
  {
   "cell_type": "code",
   "execution_count": 1,
   "metadata": {},
   "outputs": [],
   "source": [
    "%load_ext autoreload\n",
    "%autoreload 2"
   ]
  },
  {
   "cell_type": "code",
   "execution_count": 2,
   "metadata": {},
   "outputs": [],
   "source": [
    "import henrylang as henry"
   ]
  },
  {
   "cell_type": "code",
   "execution_count": 3,
   "metadata": {},
   "outputs": [
    {
     "name": "stdout",
     "output_type": "stream",
     "text": [
      "incrementing my depth to 1: Block([LiteralValue(bb)])\n",
      "incrementing my depth to 1: Block([LiteralValue(hello), Block([LiteralValue(bb)])])\n",
      "incrementing my depth to 2: Block([LiteralValue(bb)])\n",
      "incrementing my depth to 1: Block([Assignment(y, LiteralValue(2)), Assignment(x, LiteralValue(y)), LiteralValue(x), Block([LiteralValue(hello), Block([LiteralValue(bb)])])])\n",
      "incrementing my depth to 2: Block([LiteralValue(hello), Block([LiteralValue(bb)])])\n",
      "incrementing my depth to 3: Block([LiteralValue(bb)])\n"
     ]
    },
    {
     "data": {
      "text/plain": [
       "Program([Function(f, ['x', 'y'], Block([Assignment(y, LiteralValue(2)), Assignment(x, LiteralValue(y)), LiteralValue(x), Block([LiteralValue(hello), Block([LiteralValue(bb)])])]))])"
      ]
     },
     "execution_count": 3,
     "metadata": {},
     "output_type": "execute_result"
    }
   ],
   "source": [
    "program = henry.parse(\"\"\"\n",
    "f(x, y) {\n",
    "    y := 2\n",
    "    x := y\n",
    "    x\n",
    "    {\n",
    "        hello\n",
    "        { bb }\n",
    "    }\n",
    "}\n",
    "\"\"\")\n",
    "\n",
    "program"
   ]
  },
  {
   "cell_type": "code",
   "execution_count": 4,
   "metadata": {},
   "outputs": [
    {
     "name": "stdout",
     "output_type": "stream",
     "text": [
      "def f(x, y):\n",
      "    y = 2\n",
      "    x = y\n",
      "    x\n"
     ]
    }
   ],
   "source": [
    "print(program.python())"
   ]
  },
  {
   "cell_type": "code",
   "execution_count": null,
   "metadata": {},
   "outputs": [],
   "source": []
  }
 ],
 "metadata": {
  "kernelspec": {
   "display_name": "base",
   "language": "python",
   "name": "python3"
  },
  "language_info": {
   "codemirror_mode": {
    "name": "ipython",
    "version": 3
   },
   "file_extension": ".py",
   "mimetype": "text/x-python",
   "name": "python",
   "nbconvert_exporter": "python",
   "pygments_lexer": "ipython3",
   "version": "3.10.8"
  }
 },
 "nbformat": 4,
 "nbformat_minor": 2
}
